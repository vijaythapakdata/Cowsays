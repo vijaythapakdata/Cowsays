{
  "nbformat": 4,
  "nbformat_minor": 0,
  "metadata": {
    "colab": {
      "name": "Cowsay.ipynb",
      "provenance": [],
      "authorship_tag": "ABX9TyMR0gWkLdufeDiY/rVvG5FW",
      "include_colab_link": true
    },
    "kernelspec": {
      "name": "python3",
      "display_name": "Python 3"
    },
    "language_info": {
      "name": "python"
    }
  },
  "cells": [
    {
      "cell_type": "markdown",
      "metadata": {
        "id": "view-in-github",
        "colab_type": "text"
      },
      "source": [
        "<a href=\"https://colab.research.google.com/github/vijaythapakdata/Cowsays/blob/main/Cowsay.ipynb\" target=\"_parent\"><img src=\"https://colab.research.google.com/assets/colab-badge.svg\" alt=\"Open In Colab\"/></a>"
      ]
    },
    {
      "cell_type": "code",
      "metadata": {
        "colab": {
          "base_uri": "https://localhost:8080/"
        },
        "id": "e6VpxvAoMEJP",
        "outputId": "c43b846e-ab49-4c8a-8ac4-eee315e98bc6"
      },
      "source": [
        "pip install cowsay"
      ],
      "execution_count": 2,
      "outputs": [
        {
          "output_type": "stream",
          "name": "stdout",
          "text": [
            "Collecting cowsay\n",
            "  Downloading cowsay-4.0-py2.py3-none-any.whl (24 kB)\n",
            "Installing collected packages: cowsay\n",
            "Successfully installed cowsay-4.0\n"
          ]
        }
      ]
    },
    {
      "cell_type": "code",
      "metadata": {
        "id": "OVTTcSydMQJ5"
      },
      "source": [
        "import cowsay"
      ],
      "execution_count": 3,
      "outputs": []
    },
    {
      "cell_type": "code",
      "metadata": {
        "colab": {
          "base_uri": "https://localhost:8080/"
        },
        "id": "hxUfPKUtMSvn",
        "outputId": "2fc6b791-fdb5-4e1a-b6c5-cca5cd3de070"
      },
      "source": [
        "cowsay.daemon(\"I am Daemon\")"
      ],
      "execution_count": 4,
      "outputs": [
        {
          "output_type": "stream",
          "name": "stdout",
          "text": [
            "  ___________\n",
            "| I am Daemon |\n",
            "  ===========\n",
            "                   \\\n",
            "                    \\\n",
            "                     \\\n",
            "                      \\\n",
            "                       /- _  `-/  '\n",
            "                      (/\\/ \\ \\   /\\\n",
            "                      / /   | `    \\\n",
            "                      O O   ) /    |\n",
            "                      `-^--'`<     '\n",
            "                     (_.)  _  )   /\n",
            "                      `.___/`    /\n",
            "                        `-----' /\n",
            "           <----.     __ / __   \\\n",
            "           <----|====O)))==) \\) /====\n",
            "           <----'    `--' `.__,' \\\n",
            "                        |        |\n",
            "                         \\       /\n",
            "                   ______( (_  / \\______\n",
            "                 ,'  ,-----'   |        \\\n",
            "                 `--{__________)        \\/\n"
          ]
        }
      ]
    },
    {
      "cell_type": "code",
      "metadata": {
        "colab": {
          "base_uri": "https://localhost:8080/"
        },
        "id": "1rp4u3wnMZGy",
        "outputId": "c52df58b-d636-4df1-ccc7-fa40edd2391a"
      },
      "source": [
        "cowsay.dragon(\"I am Dragon don't mess with me\")"
      ],
      "execution_count": 5,
      "outputs": [
        {
          "output_type": "stream",
          "name": "stdout",
          "text": [
            "  ______________________________\n",
            "| I am Dragon don't mess with me |\n",
            "  ==============================\n",
            "                                \\\n",
            "                                 \\\n",
            "                                  \\\n",
            "                                   \\\n",
            "                                                         / \\\\  //\\\\\n",
            "                                          |\\\\___/|      /   \\\\//  \\\\\\\\\n",
            "                                          /0  0  \\\\__  /    //  | \\\\ \\\\\n",
            "                                         /     /  \\\\/_/    //   |  \\\\  \\\\\n",
            "                                         \\@_^_\\@'/   \\\\/_   //    |   \\\\   \\\\\n",
            "                                         //_^_/     \\\\/_ //     |    \\\\    \\\\\n",
            "                                      ( //) |        \\\\///      |     \\\\     \\\\\n",
            "                                    ( / /) _|_ /   )  //       |      \\\\     _\\\\\n",
            "                                  ( // /) '/,_ _ _/  ( ; -.    |    _ _\\\\.-~        .-~~~^-.\n",
            "                                (( / / )) ,-{        _      `-.|.-~-.           .~         `.\n",
            "                               (( // / ))  '/\\\\      /                 ~-. _ .-~      .-~^-.  \\\\\n",
            "                               (( /// ))      `.   {            }                   /      \\\\  \\\\\n",
            "                                (( / ))     .----~-.\\\\        \\\\-'                 .~         \\\\  `. \\\\^-.\n",
            "                                           ///.----..>        \\\\             _ -~             `.  ^-`  ^-_\n",
            "                                             ///-._ _ _ _ _ _ _}^ - - - - ~                     ~-- ,.-~\n",
            "                                                                                                /.-~\n"
          ]
        }
      ]
    },
    {
      "cell_type": "code",
      "metadata": {
        "colab": {
          "base_uri": "https://localhost:8080/"
        },
        "id": "vl0d2fYSMiru",
        "outputId": "1e85fd3a-de45-4861-8356-c0f8f34d3912"
      },
      "source": [
        "cowsay.trex(\"This is trex\")"
      ],
      "execution_count": 6,
      "outputs": [
        {
          "output_type": "stream",
          "name": "stdout",
          "text": [
            "  ____________\n",
            "| This is trex |\n",
            "  ============\n",
            "                   \\\n",
            "                    \\\n",
            "                     \\\n",
            "                      \\\n",
            "                         .-=-==--==--.\n",
            "                   ..-==\"  ,'o`)      `.\n",
            "                 ,'         `\"'         \\\n",
            "                :  (                     `.__...._\n",
            "                |                  )    /         `-=-.\n",
            "                :       ,vv.-._   /    /               `---==-._\n",
            "                 \\/\\/\\/VV ^ d88`;'    /                         `.\n",
            "                     ``  ^/d88P!'    /             ,              `._\n",
            "                        ^/    !'   ,.      ,      /                  \"-,,__,,--'\"\"\"\"-.\n",
            "                       ^/    !'  ,'  \\ . .(      (         _           )  ) ) ) ))_,-.\\\n",
            "                      ^(__ ,!',\"'   ;:+.:%:a.     \\:.. . ,'          )  )  ) ) ,\"'    '\n",
            "                      ',,,'','     /o:::\":%:%a.    \\:.:.:         .    )  ) _,'\n",
            "                       \"\"\"'       ;':::'' `+%%%a._  \\%:%|         ;.). _,-\"\"\n",
            "                              ,-='_.-'      ``:%::)  )%:|        /:._,\"\n",
            "                             (/(/\"           ,\" ,'_,'%%%:       (_,'\n",
            "                                            (  (//(`.___;        \\\n",
            "                                             \\     \\    `         `\n",
            "                                              `.    `.   `.        :\n",
            "                                                \\. . .\\    : . . . :\n",
            "                                                 \\. . .:    `.. . .:\n",
            "                                                  `..:.:\\     \\:...\\\n",
            "                                                   ;:.:.;      ::...:\n",
            "                                                   ):%::       :::::;\n",
            "                                               __,::%:(        :::::\n",
            "                                            ,;:%%%%%%%:        ;:%::\n",
            "                                              ;,--\"\"-.`\\  ,=--':%:%:\\\n",
            "                                             /\"       \"| /-\".:%%%%%%%\\\n",
            "                                                             ;,-\"'`)%%)\n",
            "                                                            /\"      \"|\n"
          ]
        }
      ]
    },
    {
      "cell_type": "code",
      "metadata": {
        "colab": {
          "base_uri": "https://localhost:8080/"
        },
        "id": "bLybOxQAMq2P",
        "outputId": "4d78d4a4-1693-495a-9f58-503ca22e4db3"
      },
      "source": [
        "cowsay.milk(\"I love Milk\")"
      ],
      "execution_count": 7,
      "outputs": [
        {
          "output_type": "stream",
          "name": "stdout",
          "text": [
            "  ___________\n",
            "| I love Milk |\n",
            "  ===========\n",
            "           \\\n",
            "            \\\n",
            "             \\\n",
            "              \\\n",
            "                  ____________\n",
            "                  |__________|\n",
            "                 /           /\\\n",
            "                /           /  \\\n",
            "               /___________/___/|\n",
            "               |          |     |\n",
            "               |  ==\\ /== |     |\n",
            "               |   O   O  | \\ \\ |\n",
            "               |     <    |  \\ \\|\n",
            "              /|          |   \\ \\\n",
            "             / |  \\_____/ |   / /\n",
            "            / /|          |  / /|\n",
            "           /||\\|          | /||\\/\n",
            "               -------------|\n",
            "                   | |    | |\n",
            "                  <__/    \\__>\n"
          ]
        }
      ]
    },
    {
      "cell_type": "code",
      "metadata": {
        "colab": {
          "base_uri": "https://localhost:8080/"
        },
        "id": "hCiHjscHMwW_",
        "outputId": "000a99fe-2a48-44e0-c6f5-e3dc01061f38"
      },
      "source": [
        "cowsay.ghostbusters(\"Bro Why do people not like my posts\")"
      ],
      "execution_count": 9,
      "outputs": [
        {
          "output_type": "stream",
          "name": "stdout",
          "text": [
            "  ___________________________________\n",
            "| Bro Why do people not like my posts |\n",
            "  ===================================\n",
            "                                           \\\n",
            "                                            \\\n",
            "                                             \\\n",
            "                                              \\\n",
            "                                                          __---__\n",
            "                                                       _-       /--______\n",
            "                                                  __--( /     \\ )XXXXXXXXXXX\\v.\n",
            "                                                .-XXX(   O   O  )XXXXXXXXXXXXXXX-\n",
            "                                               /XXX(       U     )        XXXXXXX\\\n",
            "                                             /XXXXX(              )--_  XXXXXXXXXXX\\\n",
            "                                            /XXXXX/ (      O     )   XXXXXX   \\XXXXX\\\n",
            "                                            XXXXX/   /            XXXXXX   \\__ \\XXXXX\n",
            "                                            XXXXXX__/          XXXXXX         \\__---->\n",
            "                                    ---___  XXX__/          XXXXXX      \\__         /\n",
            "                                      \\-  --__/   ___/\\  XXXXXX            /  ___--/=\n",
            "                                       \\-\\    ___/    XXXXXX              '--- XXXXXX\n",
            "                                          \\-\\/XXX\\ XXXXXX                      /XXXXX\n",
            "                                            \\XXXXXXXXX   \\                    /XXXXX/\n",
            "                                             \\XXXXXX      >                 _/XXXXX/\n",
            "                                               \\XXXXX--__/              __-- XXXX/\n",
            "                                                -XXXXXXXX---------------  XXXXXX-\n",
            "                                                   \\XXXXXXXXXXXXXXXXXXXXXXXXXX/\n",
            "                                                     \"\"VXXXXXXXXXXXXXXXXXXV\"\"\n"
          ]
        }
      ]
    },
    {
      "cell_type": "code",
      "metadata": {
        "colab": {
          "base_uri": "https://localhost:8080/"
        },
        "id": "BLKz070kM879",
        "outputId": "28d22e97-6883-4769-b111-6198c1484041"
      },
      "source": [
        "cowsay.stegosaurus(\"Let me check what is the reason\")"
      ],
      "execution_count": 10,
      "outputs": [
        {
          "output_type": "stream",
          "name": "stdout",
          "text": [
            "  _______________________________\n",
            "| Let me check what is the reason |\n",
            "  ===============================\n",
            "                                       \\\n",
            "                                        \\\n",
            "                                         \\\n",
            "                                          \\\n",
            "                                                                    / `.   .' \"\n",
            "                                                            .---.  <    > <    >  .---.\n",
            "                                                            |    \\  \\ - ~ ~ - /  /    |\n",
            "                                        _____          ..-~             ~-..-~\n",
            "                                       |     |   \\~~~\\.'                    `./~~~/\n",
            "                                      ---------   \\__/                        \\__/\n",
            "                                     .'  O    \\     /               /       \\  \"\n",
            "                                    (_____,    `._.'               |         }  \\/~~~/\n",
            "                                     `----.          /       }     |        /    \\__/\n",
            "                                           `-.      |       /      |       /      `. ,~~|\n",
            "                                               ~-.__|      /_ - ~ ^|      /- _      `..-'\n",
            "                                                    |     /        |     /     ~-.     `-. _  _  _\n",
            "                                                    |_____|        |_____|         ~ - . _ _ _ _ _>\n"
          ]
        }
      ]
    },
    {
      "cell_type": "code",
      "metadata": {
        "colab": {
          "base_uri": "https://localhost:8080/"
        },
        "id": "qG6oDJiWNFpo",
        "outputId": "e984f184-b2b3-46e8-a5bd-836c8371e55f"
      },
      "source": [
        "cowsay.meow(\"Heee\")"
      ],
      "execution_count": 11,
      "outputs": [
        {
          "output_type": "stream",
          "name": "stdout",
          "text": [
            "  ____\n",
            "| Heee |\n",
            "  ====\n",
            "    \\\n",
            "     \\\n",
            "      \\\n",
            "       \\\n",
            "                      _ ___.--'''`--''//-,-_--_.\n",
            "          \\\\`\"' ` || \\\\\\\\ \\\\ \\\\\\\\/ / // / ,-\\\\\\\\`,_\n",
            "         /'`  \\\\ \\\\ || Y  | \\\\|/ / // / - |__ `-,\n",
            "        /\\@\"\\\\  ` \\\\ `\\\\ |  | ||/ // | \\\\/  \\\\  `-._`-,_.,\n",
            "       /  _.-. `.-\\\\,___/\\\\ _/|_/_\\\\_\\\\/|_/ |     `-._._)\n",
            "       `-'``/  /  |  // \\\\__/\\\\__  /  \\\\__/ \\\\\n",
            "            `-'  /-\\\\/  | -|   \\\\__ \\\\   |-' |\n",
            "              __/\\\\ / _/ \\\\/ __,-'   ) ,' _|'\n",
            "             (((__/(((_.' ((___..-'((__,'\n"
          ]
        }
      ]
    },
    {
      "cell_type": "code",
      "metadata": {
        "colab": {
          "base_uri": "https://localhost:8080/"
        },
        "id": "IP4V7XN-NKem",
        "outputId": "0a941280-6e14-45d6-9cd3-b27188244c6b"
      },
      "source": [
        "cowsay.stimpy(\"What is stimpy\")"
      ],
      "execution_count": 12,
      "outputs": [
        {
          "output_type": "stream",
          "name": "stdout",
          "text": [
            "  ______________\n",
            "| What is stimpy |\n",
            "  ==============\n",
            "               \\\n",
            "                \\\n",
            "                 \\\n",
            "                  \\\n",
            "                      .    _  .\n",
            "                     |\\_|/__/|\n",
            "                     / / \\/ \\  \\\n",
            "                    /__|O||O|__ \\\n",
            "                   |/_ \\_/\\_/ _\\ |\n",
            "                   | | (____) | ||\n",
            "                   \\/\\___/\\__/  //\n",
            "                   (_/         ||\n",
            "                    |          ||\n",
            "                    |          ||\\\n",
            "                     \\        //_/\n",
            "                      \\______//\n",
            "                     __ || __||\n",
            "                    (____(____)\n"
          ]
        }
      ]
    },
    {
      "cell_type": "code",
      "metadata": {
        "colab": {
          "base_uri": "https://localhost:8080/"
        },
        "id": "OS5C7EZ0NQp4",
        "outputId": "449278dc-18eb-4f70-864d-b736f5098ae9"
      },
      "source": [
        "cowsay.cheese(\"Yummy\")"
      ],
      "execution_count": 14,
      "outputs": [
        {
          "output_type": "stream",
          "name": "stdout",
          "text": [
            "  _____\n",
            "| Yummy |\n",
            "  =====\n",
            "     \\\n",
            "      \\\n",
            "       \\\n",
            "        \\\n",
            "          /     \\_/         |\n",
            "         |                 ||\n",
            "         |                 ||\n",
            "        |    ###\\  /###   | |\n",
            "        |     0  \\/  0    | |\n",
            "       /|                 | |\n",
            "      / |        <        |\\ \\\n",
            "     | /|                 | | |\n",
            "     | |     \\_______/   |  | |\n",
            "     | |                 | / /\n",
            "     /||                 /|||\n",
            "        ----------------|\n",
            "             | |    | |\n",
            "             ***    ***\n",
            "            /___\\  /___\\\n"
          ]
        }
      ]
    },
    {
      "cell_type": "code",
      "metadata": {
        "colab": {
          "base_uri": "https://localhost:8080/"
        },
        "id": "cwqBYkz1Nb_9",
        "outputId": "95e2773b-2875-4ce3-e0a1-d72c571e056e"
      },
      "source": [
        "cowsay.pig(\"I am sluggish\")"
      ],
      "execution_count": 15,
      "outputs": [
        {
          "output_type": "stream",
          "name": "stdout",
          "text": [
            "  _____________\n",
            "| I am sluggish |\n",
            "  =============\n",
            "             \\\n",
            "              \\\n",
            "               \\\n",
            "                \\\n",
            "                          ,.\n",
            "                         (_|,.\n",
            "                         ,' /, )_______   _\n",
            "                     __j o``-'        `.'-)'\n",
            "                     (\")                 \\'\n",
            "                     `-j                |\n",
            "                         `-._(           /\n",
            "                             |_\\  |--^.  /\n",
            "                         /_]'|_| /_)_/\n",
            "                             /_]'  /_]'\n"
          ]
        }
      ]
    },
    {
      "cell_type": "code",
      "metadata": {
        "colab": {
          "base_uri": "https://localhost:8080/"
        },
        "id": "cqbcq1LPNjDD",
        "outputId": "fcb9bfb8-5264-448a-a5d1-6f1cb7a90cf5"
      },
      "source": [
        "cowsay.cow(\"Please help me to survive\")"
      ],
      "execution_count": 16,
      "outputs": [
        {
          "output_type": "stream",
          "name": "stdout",
          "text": [
            "  _________________________\n",
            "| Please help me to survive |\n",
            "  =========================\n",
            "                         \\\n",
            "                          \\\n",
            "                            ^__^\n",
            "                            (oo)\\_______\n",
            "                            (__)\\       )\\/\\\n",
            "                                ||----w |\n",
            "                                ||     ||\n"
          ]
        }
      ]
    },
    {
      "cell_type": "code",
      "metadata": {
        "colab": {
          "base_uri": "https://localhost:8080/"
        },
        "id": "icx2AWTJNpon",
        "outputId": "550ecc54-2830-472a-ff4a-ea18f9a91238"
      },
      "source": [
        "cowsay.stegosaurus(\"I am\")"
      ],
      "execution_count": 17,
      "outputs": [
        {
          "output_type": "stream",
          "name": "stdout",
          "text": [
            "  ____\n",
            "| I am |\n",
            "  ====\n",
            "            \\\n",
            "             \\\n",
            "              \\\n",
            "               \\\n",
            "                                         / `.   .' \"\n",
            "                                 .---.  <    > <    >  .---.\n",
            "                                 |    \\  \\ - ~ ~ - /  /    |\n",
            "             _____          ..-~             ~-..-~\n",
            "            |     |   \\~~~\\.'                    `./~~~/\n",
            "           ---------   \\__/                        \\__/\n",
            "          .'  O    \\     /               /       \\  \"\n",
            "         (_____,    `._.'               |         }  \\/~~~/\n",
            "          `----.          /       }     |        /    \\__/\n",
            "                `-.      |       /      |       /      `. ,~~|\n",
            "                    ~-.__|      /_ - ~ ^|      /- _      `..-'\n",
            "                         |     /        |     /     ~-.     `-. _  _  _\n",
            "                         |_____|        |_____|         ~ - . _ _ _ _ _>\n"
          ]
        }
      ]
    },
    {
      "cell_type": "code",
      "metadata": {
        "colab": {
          "base_uri": "https://localhost:8080/"
        },
        "id": "W3Qf54bFNxCY",
        "outputId": "d8b8b747-77e9-4aff-8126-2e0f00155f4a"
      },
      "source": [
        "cowsay.turtle(\"I am turtle\")"
      ],
      "execution_count": 19,
      "outputs": [
        {
          "output_type": "stream",
          "name": "stdout",
          "text": [
            "  ___________\n",
            "| I am turtle |\n",
            "  ===========\n",
            "                   \\\n",
            "                    \\\n",
            "                     \\\n",
            "                      \\\n",
            "                                                          ___-------___\n",
            "                                                      _-~~             ~~-_\n",
            "                                                   _-~                    /~-_\n",
            "                        /^\\__/^\\         /~  \\                   /    \\\n",
            "                      /|  O|| O|        /      \\_______________/        \\\n",
            "                     | |___||__|      /       /                \\          \\\n",
            "                     |          \\    /      /                    \\          \\\n",
            "                     |   (_______) /______/                        \\_________ \\\n",
            "                     |         / /         \\                      /            \\\n",
            "                      \\         \\^\\\\         \\                  /               \\     /\n",
            "                        \\         ||           \\______________/      _-_       //\\__//\n",
            "                          \\       ||------_-~~-_ ------------- \\ --/~   ~\\    || __/\n",
            "                            ~-----||====/~     |==================|       |/~~~~~\n",
            "                             (_(__/  ./     /                    \\_\\      \\.\n",
            "                                    (_(___/                         \\_____)_)\n"
          ]
        }
      ]
    },
    {
      "cell_type": "code",
      "metadata": {
        "colab": {
          "base_uri": "https://localhost:8080/"
        },
        "id": "qunJY77nN7P7",
        "outputId": "00768231-e841-4f41-9c0c-9a0057b50cd2"
      },
      "source": [
        "cowsay.turkey(\"Are you turkey?\")"
      ],
      "execution_count": 20,
      "outputs": [
        {
          "output_type": "stream",
          "name": "stdout",
          "text": [
            "  _______________\n",
            "| Are you turkey? |\n",
            "  ===============\n",
            "                       \\\n",
            "                        \\\n",
            "                         \\\n",
            "                          \\\n",
            "                                                            ,+*^^*+___+++_\n",
            "                                                      ,*^^^^              )\n",
            "                                                   _+*                     ^**+_\n",
            "                                                 +^       _ _++*+_+++_,         )\n",
            "                             _+^^*+_    (     ,+*^ ^          \\\\+_        )\n",
            "                            {       )  (    ,(    ,_+--+--,      ^)      ^\\\\\n",
            "                           { (\\@)    } f   ,(  ,+-^ __*_*_  ^^\\\\_   ^\\\\       )\n",
            "                          {:;-/    (_+*-+^^^^^+*+*<_ _++_)_    )    )      /\n",
            "                         ( /  (    (        ,___    ^*+_+* )   <    <      \\\\\n",
            "                          U _/     )    *--<  ) ^\\\\-----++__)   )    )       )\n",
            "                           (      )  _(^)^^))  )  )\\\\^^^^^))^*+/    /       /\n",
            "                         (      /  (_))_^)) )  )  ))^^^^^))^^^)__/     +^^\n",
            "                        (     ,/    (^))^))  )  ) ))^^^^^^^))^^)       _)\n",
            "                         *+__+*       (_))^)  ) ) ))^^^^^^))^^^^^)____*^\n",
            "                         \\\\             \\\\_)^)_)) ))^^^^^^^^^^))^^^^)\n",
            "                          (_             ^\\\\__^^^^^^^^^^^^))^^^^^^^)\n",
            "                            ^\\\\___            ^\\\\__^^^^^^))^^^^^^^^)\\\\\\\\\n",
            "                                 ^^^^^\\\\uuu/^^\\\\uuu/^^^^\\\\^\\\\^\\\\^\\\\^\\\\^\\\\^\\\\^\\\\\n",
            "                                    ___) >____) >___   ^\\\\_\\\\_\\\\_\\\\_\\\\_\\\\_\\\\)\n",
            "                                   ^^^//\\\\\\\\_^^//\\\\\\\\_^       ^(\\\\_\\\\_\\\\_\\\\)\n",
            "                                    ^^^ ^^ ^^^ ^\n"
          ]
        }
      ]
    },
    {
      "cell_type": "code",
      "metadata": {
        "colab": {
          "base_uri": "https://localhost:8080/"
        },
        "id": "FwqEKQyBOBJT",
        "outputId": "00f2b484-052a-4987-c86b-1db684875af7"
      },
      "source": [
        "cowsay.char_names"
      ],
      "execution_count": 21,
      "outputs": [
        {
          "output_type": "execute_result",
          "data": {
            "text/plain": [
              "dict_keys(['beavis', 'cheese', 'daemon', 'cow', 'dragon', 'ghostbusters', 'kitty', 'meow', 'milk', 'pig', 'stegosaurus', 'stimpy', 'trex', 'turkey', 'turtle', 'tux'])"
            ]
          },
          "metadata": {},
          "execution_count": 21
        }
      ]
    },
    {
      "cell_type": "code",
      "metadata": {
        "colab": {
          "base_uri": "https://localhost:8080/"
        },
        "id": "iCrnUIFnOGjW",
        "outputId": "914f249c-747d-4476-cee4-43030d458117"
      },
      "source": [
        "cowsay.beavis(\"Beavis right\")"
      ],
      "execution_count": 22,
      "outputs": [
        {
          "output_type": "stream",
          "name": "stdout",
          "text": [
            "  ____________\n",
            "| Beavis right |\n",
            "  ============\n",
            "                 \\\n",
            "                  \\\n",
            "                   \\\n",
            "                         _------~~-,\n",
            "                      ,'            ,\n",
            "                      /               \\\\\n",
            "                     /                :\n",
            "                    |                  '\n",
            "                    |                  |\n",
            "                    |                  |\n",
            "                     |   _--           |\n",
            "                     _| =-.     .-.   ||\n",
            "                     o|/o/       _.   |\n",
            "                     /  ~          \\\\ |\n",
            "                   (____\\@)  ___~    |\n",
            "                      |_===~~~.`    |\n",
            "                   _______.--~     |\n",
            "                   \\\\________       |\n",
            "                            \\\\      |\n",
            "                          __/-___-- -__\n",
            "                         /            _ \\\\\n",
            "                         \n"
          ]
        }
      ]
    }
  ]
}